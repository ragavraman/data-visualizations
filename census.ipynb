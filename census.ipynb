{
 "cells": [
  {
   "cell_type": "markdown",
   "id": "43c8c5e8",
   "metadata": {},
   "source": [
    "# Census API"
   ]
  },
  {
   "cell_type": "code",
   "execution_count": 1114,
   "id": "486f4dec",
   "metadata": {},
   "outputs": [],
   "source": [
    "%matplotlib inline\n",
    "import requests\n",
    "import pandas as pd\n",
    "import numpy as np\n",
    "import matplotlib.pyplot as plt\n",
    "import seaborn as sns"
   ]
  },
  {
   "cell_type": "markdown",
   "id": "1e00b6a7",
   "metadata": {},
   "source": [
    "## Import data"
   ]
  },
  {
   "cell_type": "code",
   "execution_count": 1115,
   "id": "ad38a46e",
   "metadata": {},
   "outputs": [],
   "source": [
    "# API key\n",
    "key = '8adabd93c8043a91d3a6bc40d4d48b01fdaa6c36'\n",
    "\n",
    "#            0.    1.    2.    3.    4.    5.    6.\n",
    "years =     [2015, 2016, 2017, 2018, 2019, 2020, 2021]\n",
    "jsonData =  [None, None, None, None, None, None, None]\n",
    "years_set = set(years)"
   ]
  },
  {
   "cell_type": "markdown",
   "id": "92e7d3dc",
   "metadata": {},
   "source": [
    "### JSON data for 2015-2018 populations by state"
   ]
  },
  {
   "cell_type": "code",
   "execution_count": 1116,
   "id": "e0f3a9ad",
   "metadata": {
    "scrolled": true
   },
   "outputs": [
    {
     "name": "stdout",
     "output_type": "stream",
     "text": [
      "<Response [200]>\n",
      "\t 0 2015\n",
      "<Response [200]>\n",
      "\t 1 2016\n",
      "<Response [200]>\n",
      "\t 2 2017\n",
      "<Response [200]>\n",
      "\t 3 2018\n"
     ]
    }
   ],
   "source": [
    "for i, year in enumerate(years[:4]):\n",
    "    url = 'https://api.census.gov/data/{0}/pep/population?get=GEONAME,POP&for=state:*&key={1}'.format(year, key)\n",
    "    response = requests.get(url)\n",
    "    print(response)\n",
    "    jsonData[i] = response.json()\n",
    "    print(\"\\t\", end=\" \")\n",
    "    print(i, year)"
   ]
  },
  {
   "cell_type": "markdown",
   "id": "565d23c9",
   "metadata": {},
   "source": [
    "### JSON data for 2019 populations by state"
   ]
  },
  {
   "cell_type": "code",
   "execution_count": 1117,
   "id": "ba227c73",
   "metadata": {},
   "outputs": [
    {
     "name": "stdout",
     "output_type": "stream",
     "text": [
      "<Response [200]> 2019\n"
     ]
    }
   ],
   "source": [
    "url = 'https://api.census.gov/data/2019/pep/population?get=NAME,POP&for=state:*&key={0}'.format(key)\n",
    "response = requests.get(url)\n",
    "print(response, '2019')\n",
    "jsonData[4] = response.json() # 2019 population"
   ]
  },
  {
   "cell_type": "markdown",
   "id": "96c7ab8e",
   "metadata": {},
   "source": [
    "### JSON data for 2020 populations by state"
   ]
  },
  {
   "cell_type": "code",
   "execution_count": 1118,
   "id": "8d2dd8be",
   "metadata": {},
   "outputs": [
    {
     "name": "stdout",
     "output_type": "stream",
     "text": [
      "<Response [200]> 2020\n"
     ]
    }
   ],
   "source": [
    "url = 'https://api.census.gov/data/2021/pep/population?get=NAME,POP_2020&for=state:*&key={0}'.format(key)\n",
    "response = requests.get(url)\n",
    "print(response, '2020')\n",
    "jsonData[5] = response.json() # 2020 population"
   ]
  },
  {
   "cell_type": "markdown",
   "id": "ec530287",
   "metadata": {},
   "source": [
    "### JSON data for 2021 populations by state"
   ]
  },
  {
   "cell_type": "code",
   "execution_count": 1119,
   "id": "084fbdfe",
   "metadata": {},
   "outputs": [
    {
     "name": "stdout",
     "output_type": "stream",
     "text": [
      "<Response [200]> 2021\n"
     ]
    }
   ],
   "source": [
    "url = 'https://api.census.gov/data/2021/pep/population?get=NAME,POP_2021&for=state:*'.format(key)\n",
    "response = requests.get(url)\n",
    "print(response, '2021')\n",
    "jsonData[6] = response.json() # 2021 population"
   ]
  },
  {
   "cell_type": "markdown",
   "id": "71683c35",
   "metadata": {},
   "source": [
    "## Initialize data into DataFrames"
   ]
  },
  {
   "cell_type": "code",
   "execution_count": 1120,
   "id": "13296e41",
   "metadata": {},
   "outputs": [],
   "source": [
    "pop_data = {\n",
    "    2015: None,\n",
    "    2016: None,\n",
    "    2017: None,\n",
    "    2018: None,\n",
    "    2019: None,\n",
    "    2020: None,\n",
    "    2021: None,\n",
    "}"
   ]
  },
  {
   "cell_type": "code",
   "execution_count": 1121,
   "id": "7dafe5d6",
   "metadata": {},
   "outputs": [],
   "source": [
    "for i, year in enumerate(years):\n",
    "    pop_data[year] = pd.DataFrame(jsonData[i][1:], columns=jsonData[0][0])#.sort_values(by='GEONAME', ascending=True)\n",
    "    if year == 2015:\n",
    "        for i, state in enumerate(pop_data[year]['GEONAME'].str.split(',')):\n",
    "            pop_data[year].iloc[i]['GEONAME'] = state[0]"
   ]
  },
  {
   "cell_type": "code",
   "execution_count": 1122,
   "id": "2e1f03e2",
   "metadata": {},
   "outputs": [],
   "source": [
    "# Sort DataFrames by alphabetical order of state names and set index to state column (FIPS code)\n",
    "for y in years:\n",
    "    pop_data[y].sort_values(by='GEONAME', ascending=True, inplace=True)\n",
    "    pop_data[y].set_index('state', inplace=True)"
   ]
  },
  {
   "cell_type": "markdown",
   "id": "d3b3f290",
   "metadata": {},
   "source": [
    "### Combine all population data into one master table"
   ]
  },
  {
   "cell_type": "code",
   "execution_count": 1123,
   "id": "9fcb7597",
   "metadata": {},
   "outputs": [],
   "source": [
    "pop_data_all = pd.DataFrame()\n",
    "pop_data_all['GEONAME'] = pop_data[2015]['GEONAME']"
   ]
  },
  {
   "cell_type": "code",
   "execution_count": 1124,
   "id": "3f43d087",
   "metadata": {},
   "outputs": [],
   "source": [
    "for y in years:\n",
    "    pop_data_all['POP_{}'.format(y)] = pop_data[y]['POP']\n",
    "    \n",
    "    # Change data type to int\n",
    "    pop_data_all['POP_{}'.format(y)] = pop_data_all['POP_{}'.format(y)].astype(int)"
   ]
  },
  {
   "cell_type": "markdown",
   "id": "cc862940",
   "metadata": {},
   "source": [
    "### Create a master table for population changes between years"
   ]
  },
  {
   "cell_type": "code",
   "execution_count": 1125,
   "id": "c3a6ce32",
   "metadata": {},
   "outputs": [],
   "source": [
    "pop_data_change = pd.DataFrame()\n",
    "pop_data_change['GEONAME'] = pop_data_all['GEONAME']"
   ]
  },
  {
   "cell_type": "code",
   "execution_count": 1126,
   "id": "64c8f8b4",
   "metadata": {},
   "outputs": [],
   "source": [
    "for y in years[1:]:\n",
    "    curr_year_pop = pop_data_all['POP_{}'.format(y)]\n",
    "    prev_year_pop = pop_data_all['POP_{}'.format(y-1)]\n",
    "    change = curr_year_pop - prev_year_pop\n",
    "                                     \n",
    "    pop_data_change['POP_CHANGE_FROM_{}_TO_{}'.format(y-1, y)] = change"
   ]
  },
  {
   "cell_type": "markdown",
   "id": "e8dcc153",
   "metadata": {},
   "source": [
    "### Create a table capturing population change by percent between years"
   ]
  },
  {
   "cell_type": "code",
   "execution_count": 1127,
   "id": "ff69b136",
   "metadata": {},
   "outputs": [],
   "source": [
    "pop_data_percent = pd.DataFrame()\n",
    "pop_data_percent['GEONAME'] = pop_data_all['GEONAME']"
   ]
  },
  {
   "cell_type": "code",
   "execution_count": 1128,
   "id": "3a34c0f8",
   "metadata": {},
   "outputs": [],
   "source": [
    "for y in years[1:]:\n",
    "    curr_year_pop = pop_data_all['POP_{}'.format(y)]\n",
    "    prev_year_pop = pop_data_all['POP_{}'.format(y-1)]\n",
    "    change = curr_year_pop - prev_year_pop\n",
    "    percent = change / prev_year_pop\n",
    "                                     \n",
    "    pop_data_percent['POP_%_CHANGE_FROM_{}_TO_{}'.format(y-1, y)] = percent"
   ]
  },
  {
   "cell_type": "code",
   "execution_count": 1129,
   "id": "cbb1efe4",
   "metadata": {},
   "outputs": [
    {
     "name": "stdout",
     "output_type": "stream",
     "text": [
      "Percent change: 1.6012% increase\n"
     ]
    }
   ],
   "source": [
    "# Calculate percent change between two years\n",
    "y1 = 2015\n",
    "y2 = 2021\n",
    "state = 'Arkansas'\n",
    "\n",
    "###\n",
    "\n",
    "calculate_years = [y1, y2]\n",
    "calculate_years.sort()\n",
    "\n",
    "y1_pop = pd.to_numeric(pop_data_all[pop_data_all['GEONAME']==state]['POP_{}'.format(calculate_years[0])])[0]\n",
    "y2_pop = pd.to_numeric(pop_data_all[pop_data_all['GEONAME']==state]['POP_{}'.format(calculate_years[1])])[0]\n",
    "\n",
    "s = pd.Series([y1_pop, y2_pop])\n",
    "change = y2_pop - y1_pop\n",
    "percent = change / y1_pop\n",
    "\n",
    "print(\"Percent change: {:.4f}%\".format(percent * 100), ('increase' if change >= 0 else 'decrease'))"
   ]
  },
  {
   "cell_type": "markdown",
   "id": "6cefcb9c",
   "metadata": {},
   "source": [
    "## Visualizations"
   ]
  },
  {
   "cell_type": "markdown",
   "id": "b4bc940b",
   "metadata": {},
   "source": [
    "### Population graph"
   ]
  },
  {
   "cell_type": "code",
   "execution_count": 1130,
   "id": "09631298",
   "metadata": {},
   "outputs": [
    {
     "data": {
      "image/png": "[encoded data removed]",
      "text/plain": [
       "<Figure size 432x288 with 1 Axes>"
      ]
     },
     "metadata": {
      "needs_background": "light"
     },
     "output_type": "display_data"
    }
   ],
   "source": [
    "# Graph population of a specific state by specified years\n",
    "\n",
    "# states = ['New Jersey']\n",
    "# states = ['California']\n",
    "# states = ['Texas', 'Florida']\n",
    "# states = ['Florida', 'New York']\n",
    "# states = ['Pennsylvania', 'Illinois', 'Ohio']\n",
    "# states = ['Ohio', 'Georgia', 'North Carolina']\n",
    "# states = ['Georgia', 'North Carolina', 'Michigan']\n",
    "# states = ['New Jersey', 'Virginia']\n",
    "# states = ['Washington', 'Arizona']\n",
    "states = ['Massachusetts', 'Tennessee', 'Indiana']\n",
    "# states = ['Massachusetts', 'Tennessee', 'Indiana', 'Missouri', 'Maryland']\n",
    "# states = ['Missouri', 'Maryland']\n",
    "# states = ['Wisconsin', 'Colorado', 'Minnesota', 'South Carolina', 'Alabama']\n",
    "# states = ['Louisiana', 'Kentucky', 'Oregon', 'Oklahoma']\n",
    "# states = ['Connecticut', 'Utah', 'Puerto Rico', 'Iowa', 'Nevada', 'Arkansas', 'Mississippi', 'Kansas']\n",
    "# states = ['New Mexico', 'Nebraska', 'Idaho', 'West Virginia']\n",
    "# states = ['Hawaii', 'New Hampshire', 'Maine', 'Montana', 'Rhode Island', 'Delaware']\n",
    "# states = ['South Dakota', 'North Dakota', 'Alaska', 'District of Columbia', 'Vermont', 'Wyoming']\n",
    "graph_years = {2015, 2016, 2017, 2018, 2019, 2020, 2021} # see only these years in the graph\n",
    "\n",
    "###\n",
    "\n",
    "states.sort()\n",
    "graph_years = list(years_set.intersection(graph_years))\n",
    "graph_years.sort()\n",
    "\n",
    "plt.xticks(graph_years)\n",
    "plt.xlabel(\"year\")\n",
    "plt.ylabel(\"population in millions\")\n",
    "\n",
    "p = [0] * len(graph_years)\n",
    "\n",
    "for i, state in enumerate(states):\n",
    "    ref = pop_data_all[pop_data_all['GEONAME']==state].transpose().values[1:len(graph_years) + 1]\n",
    "    for j, year in enumerate(graph_years):\n",
    "        p[j] = ref[j][0]\n",
    "\n",
    "    p_s = pd.Series(p, graph_years)\n",
    "    p_s.plot(label=state)\n",
    "\n",
    "plt.title(', '.join(states))\n",
    "plt.legend(loc=(1.02, 0));"
   ]
  },
  {
   "cell_type": "markdown",
   "id": "74b3e2d8",
   "metadata": {},
   "source": [
    "### Population pie chart"
   ]
  },
  {
   "cell_type": "code",
   "execution_count": 1137,
   "id": "beaf2903",
   "metadata": {},
   "outputs": [],
   "source": [
    "top_states = 10 # The pie chart includes this many top states by population\n",
    "reverse = False # Set to true to capture bottom x states (least population)\n",
    "by_year = 2015 # The pie chart uses population data from this year"
   ]
  },
  {
   "cell_type": "markdown",
   "id": "eb4f1216",
   "metadata": {},
   "source": [
    "1. Create temporary DataFrame to capture top x states\n",
    "1. Population of states not included will be represented as \"other\" in pie chart"
   ]
  },
  {
   "cell_type": "code",
   "execution_count": 1138,
   "id": "86020c85",
   "metadata": {},
   "outputs": [],
   "source": [
    "top_states_data = pop_data_all[['GEONAME', 'POP_{}'.format(by_year)]]\n",
    "top_states_data = top_states_data.sort_values(by='POP_{}'.format(by_year), ascending=reverse).head(top_states)\n",
    "\n",
    "other_pop = pd.to_numeric(pop_data_all['POP_{}'.format(by_year)][top_states:]).sum()\n",
    "\n",
    "states = top_states_data['GEONAME']\n",
    "slices = top_states_data['POP_{}'.format(by_year)]\n",
    "\n",
    "states = states.append(pd.Series('other'))\n",
    "slices = slices.append(pd.Series(other_pop))"
   ]
  },
  {
   "cell_type": "markdown",
   "id": "9cef7dfb",
   "metadata": {},
   "source": [
    "Generate pie chart"
   ]
  },
  {
   "cell_type": "code",
   "execution_count": 1139,
   "id": "7bac5c87",
   "metadata": {},
   "outputs": [
    {
     "data": {
      "image/png": "[encoded data removed]",
      "text/plain": [
       "<Figure size 432x288 with 1 Axes>"
      ]
     },
     "metadata": {},
     "output_type": "display_data"
    }
   ],
   "source": [
    "plt.style.use(\"fivethirtyeight\")\n",
    "plt.pie(slices, labels=states, textprops={'fontsize': 14})\n",
    "plt.title(\"US Population: top {} states\".format(top_states))\n",
    "plt.tight_layout()"
   ]
  },
  {
   "cell_type": "code",
   "execution_count": null,
   "id": "e5c7b6f0",
   "metadata": {},
   "outputs": [],
   "source": []
  }
 ],
 "metadata": {
  "kernelspec": {
   "display_name": "Python 3 (ipykernel)",
   "language": "python",
   "name": "python3"
  },
  "language_info": {
   "codemirror_mode": {
    "name": "ipython",
    "version": 3
   },
   "file_extension": ".py",
   "mimetype": "text/x-python",
   "name": "python",
   "nbconvert_exporter": "python",
   "pygments_lexer": "ipython3",
   "version": "3.9.7"
  }
 },
 "nbformat": 4,
 "nbformat_minor": 5
}
