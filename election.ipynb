{
 "cells": [
  {
   "cell_type": "markdown",
   "id": "2bae2777",
   "metadata": {},
   "source": [
    "# Election data"
   ]
  },
  {
   "cell_type": "code",
   "execution_count": 895,
   "id": "332eab6a",
   "metadata": {},
   "outputs": [],
   "source": [
    "%matplotlib inline\n",
    "import pandas as pd\n",
    "import numpy as np\n",
    "import matplotlib.pyplot as plt\n",
    "import seaborn as sns"
   ]
  },
  {
   "cell_type": "markdown",
   "id": "28b34403",
   "metadata": {},
   "source": [
    "## Import data"
   ]
  },
  {
   "cell_type": "code",
   "execution_count": 896,
   "id": "a2108e7a",
   "metadata": {},
   "outputs": [],
   "source": [
    "# Election data from 1976 to 2020\n",
    "path = 'dataverse_files/1976-2020-president.csv'\n",
    "election_all = pd.read_csv(path)"
   ]
  },
  {
   "cell_type": "code",
   "execution_count": 897,
   "id": "994b5492",
   "metadata": {},
   "outputs": [],
   "source": [
    "# Delete 'notes' column (because all values are 'NA')\n",
    "election_all.drop(columns=['notes'], inplace=True)\n",
    "\n",
    "# Rename 'state' column to 'GEONAME' to match census DataFrame\n",
    "election_all.rename(columns={'state': 'GEONAME'}, inplace=True)"
   ]
  },
  {
   "cell_type": "markdown",
   "id": "e1c466a6",
   "metadata": {},
   "source": [
    "### Data validation"
   ]
  },
  {
   "cell_type": "markdown",
   "id": "a48cb2a6",
   "metadata": {},
   "source": [
    "Fill in NaN values"
   ]
  },
  {
   "cell_type": "code",
   "execution_count": 898,
   "id": "e3be14e4",
   "metadata": {},
   "outputs": [],
   "source": [
    "election_all['candidate'].fillna('OTHER', inplace=True)\n",
    "election_all['party_detailed'].fillna('OTHER', inplace=True)\n",
    "election_all['party_simplified'].fillna('OTHER', inplace=True)"
   ]
  },
  {
   "cell_type": "markdown",
   "id": "1b7e056b",
   "metadata": {},
   "source": [
    "Rename state names to match census DataFrames"
   ]
  },
  {
   "cell_type": "code",
   "execution_count": 899,
   "id": "4fc817a1",
   "metadata": {},
   "outputs": [],
   "source": [
    "def rename_title(name):\n",
    "    exceptions = ['of', 'and', 'the', 'on', 'by']\n",
    "    if type(name) == str:\n",
    "\n",
    "        s = name.split()\n",
    "        \n",
    "        if len(s) > 1:\n",
    "            new_name = s[0].capitalize()\n",
    "\n",
    "            for w in s[1:-1]:\n",
    "                new_name += (\" \" + w.capitalize()) if w.lower() not in exceptions else (\" \" + w.lower())\n",
    "\n",
    "            new_name += (\" \" + s[-1].capitalize())\n",
    "            return(new_name.strip())\n",
    "        else:\n",
    "            return name.capitalize().strip()\n",
    "    elif type(name) == list:\n",
    "        for i, p in enumerate(name):\n",
    "            s = name[i].split()\n",
    "            \n",
    "            if len(s) > 1:\n",
    "                new_name = s[0].capitalize()\n",
    "\n",
    "                for w in s[1:-1]:\n",
    "                    new_name += (\" \" + w.capitalize()) if w.lower() not in exceptions else (\" \" + w.lower())\n",
    "\n",
    "                new_name += (\" \" + s[-1].capitalize())\n",
    "                name[i] = new_name.strip()\n",
    "            else:\n",
    "                name[i] = s[0].capitalize().strip()\n",
    "        return name\n",
    "    else:\n",
    "        return None"
   ]
  },
  {
   "cell_type": "code",
   "execution_count": 900,
   "id": "9cee2ea7",
   "metadata": {},
   "outputs": [],
   "source": [
    "# Rename state names to match census DataFrame\n",
    "for s in election_all['GEONAME'].value_counts().index.tolist():\n",
    "    election_all.replace(to_replace={'GEONAME': {s: rename_title(s)}}, inplace=True)"
   ]
  },
  {
   "cell_type": "markdown",
   "id": "c78bc4d1",
   "metadata": {},
   "source": [
    "## Fetch data"
   ]
  },
  {
   "cell_type": "markdown",
   "id": "a15f1955",
   "metadata": {},
   "source": [
    "### Get winner (or loser) of an election in a certain state in a certain year"
   ]
  },
  {
   "cell_type": "code",
   "execution_count": 901,
   "id": "efe92ecc",
   "metadata": {},
   "outputs": [],
   "source": [
    "election_year = 2012\n",
    "state = 'Pennsylvania'\n",
    "reverse = True # Set to false to find loser (second place)"
   ]
  },
  {
   "cell_type": "code",
   "execution_count": 902,
   "id": "02fcab3c",
   "metadata": {},
   "outputs": [
    {
     "data": {
      "text/html": [
       "<div>\n",
       "<style scoped>\n",
       "    .dataframe tbody tr th:only-of-type {\n",
       "        vertical-align: middle;\n",
       "    }\n",
       "\n",
       "    .dataframe tbody tr th {\n",
       "        vertical-align: top;\n",
       "    }\n",
       "\n",
       "    .dataframe thead th {\n",
       "        text-align: right;\n",
       "    }\n",
       "</style>\n",
       "<table border=\"1\" class=\"dataframe\">\n",
       "  <thead>\n",
       "    <tr style=\"text-align: right;\">\n",
       "      <th></th>\n",
       "      <th>year</th>\n",
       "      <th>GEONAME</th>\n",
       "      <th>state_po</th>\n",
       "      <th>state_fips</th>\n",
       "      <th>state_cen</th>\n",
       "      <th>state_ic</th>\n",
       "      <th>office</th>\n",
       "      <th>candidate</th>\n",
       "      <th>party_detailed</th>\n",
       "      <th>writein</th>\n",
       "      <th>candidatevotes</th>\n",
       "      <th>totalvotes</th>\n",
       "      <th>version</th>\n",
       "      <th>party_simplified</th>\n",
       "    </tr>\n",
       "  </thead>\n",
       "  <tbody>\n",
       "    <tr>\n",
       "      <th>3319</th>\n",
       "      <td>2012</td>\n",
       "      <td>Pennsylvania</td>\n",
       "      <td>PA</td>\n",
       "      <td>42</td>\n",
       "      <td>23</td>\n",
       "      <td>14</td>\n",
       "      <td>US PRESIDENT</td>\n",
       "      <td>OBAMA, BARACK H.</td>\n",
       "      <td>DEMOCRAT</td>\n",
       "      <td>False</td>\n",
       "      <td>2990274</td>\n",
       "      <td>5742040</td>\n",
       "      <td>20210113</td>\n",
       "      <td>DEMOCRAT</td>\n",
       "    </tr>\n",
       "  </tbody>\n",
       "</table>\n",
       "</div>"
      ],
      "text/plain": [
       "      year       GEONAME state_po  state_fips  state_cen  state_ic  \\\n",
       "3319  2012  Pennsylvania       PA          42         23        14   \n",
       "\n",
       "            office         candidate party_detailed writein  candidatevotes  \\\n",
       "3319  US PRESIDENT  OBAMA, BARACK H.       DEMOCRAT   False         2990274   \n",
       "\n",
       "      totalvotes   version party_simplified  \n",
       "3319     5742040  20210113         DEMOCRAT  "
      ]
     },
     "execution_count": 902,
     "metadata": {},
     "output_type": "execute_result"
    }
   ],
   "source": [
    "reverse = 0 if reverse else 1\n",
    "state = rename_title(state)\n",
    "election_1976 = election_all[election_data_all['year']==election_year]\n",
    "g = election_1976.groupby('GEONAME')\n",
    "\n",
    "g.get_group(state).sort_values('candidatevotes').sort_values('candidatevotes', ascending=False).iloc[[reverse]]"
   ]
  },
  {
   "cell_type": "markdown",
   "id": "d576cd2c",
   "metadata": {},
   "source": [
    "### Get percentages for candidates"
   ]
  },
  {
   "cell_type": "code",
   "execution_count": 903,
   "id": "10c2ccfe",
   "metadata": {},
   "outputs": [],
   "source": [
    "election_year = 2020\n",
    "state = 'District of Columbia'"
   ]
  },
  {
   "cell_type": "code",
   "execution_count": 904,
   "id": "bd3b981b",
   "metadata": {},
   "outputs": [
    {
     "name": "stdout",
     "output_type": "stream",
     "text": [
      "Total votes: 344356\n"
     ]
    },
    {
     "data": {
      "text/html": [
       "<div>\n",
       "<style scoped>\n",
       "    .dataframe tbody tr th:only-of-type {\n",
       "        vertical-align: middle;\n",
       "    }\n",
       "\n",
       "    .dataframe tbody tr th {\n",
       "        vertical-align: top;\n",
       "    }\n",
       "\n",
       "    .dataframe thead th {\n",
       "        text-align: right;\n",
       "    }\n",
       "</style>\n",
       "<table border=\"1\" class=\"dataframe\">\n",
       "  <thead>\n",
       "    <tr style=\"text-align: right;\">\n",
       "      <th></th>\n",
       "      <th>year</th>\n",
       "      <th>GEONAME</th>\n",
       "      <th>state_po</th>\n",
       "      <th>candidate</th>\n",
       "      <th>party_detailed</th>\n",
       "      <th>candidatevotes</th>\n",
       "      <th>percentage</th>\n",
       "    </tr>\n",
       "  </thead>\n",
       "  <tbody>\n",
       "    <tr>\n",
       "      <th>3842</th>\n",
       "      <td>2020</td>\n",
       "      <td>District of Columbia</td>\n",
       "      <td>DC</td>\n",
       "      <td>BIDEN, JOSEPH R. JR</td>\n",
       "      <td>DEMOCRAT</td>\n",
       "      <td>317323</td>\n",
       "      <td>0.9215</td>\n",
       "    </tr>\n",
       "    <tr>\n",
       "      <th>3843</th>\n",
       "      <td>2020</td>\n",
       "      <td>District of Columbia</td>\n",
       "      <td>DC</td>\n",
       "      <td>TRUMP, DONALD J.</td>\n",
       "      <td>REPUBLICAN</td>\n",
       "      <td>18586</td>\n",
       "      <td>0.0540</td>\n",
       "    </tr>\n",
       "    <tr>\n",
       "      <th>3847</th>\n",
       "      <td>2020</td>\n",
       "      <td>District of Columbia</td>\n",
       "      <td>DC</td>\n",
       "      <td>OTHER</td>\n",
       "      <td>OTHER</td>\n",
       "      <td>3137</td>\n",
       "      <td>0.0091</td>\n",
       "    </tr>\n",
       "    <tr>\n",
       "      <th>3844</th>\n",
       "      <td>2020</td>\n",
       "      <td>District of Columbia</td>\n",
       "      <td>DC</td>\n",
       "      <td>JORGENSEN, JO</td>\n",
       "      <td>LIBERTARIAN</td>\n",
       "      <td>2036</td>\n",
       "      <td>0.0059</td>\n",
       "    </tr>\n",
       "    <tr>\n",
       "      <th>3845</th>\n",
       "      <td>2020</td>\n",
       "      <td>District of Columbia</td>\n",
       "      <td>DC</td>\n",
       "      <td>HAWKINS, HOWIE</td>\n",
       "      <td>DC STATEHOOD GREEN</td>\n",
       "      <td>1726</td>\n",
       "      <td>0.0050</td>\n",
       "    </tr>\n",
       "    <tr>\n",
       "      <th>3846</th>\n",
       "      <td>2020</td>\n",
       "      <td>District of Columbia</td>\n",
       "      <td>DC</td>\n",
       "      <td>LA RIVA, GLORIA ESTELLA</td>\n",
       "      <td>INDEPENDENT</td>\n",
       "      <td>855</td>\n",
       "      <td>0.0025</td>\n",
       "    </tr>\n",
       "    <tr>\n",
       "      <th>3848</th>\n",
       "      <td>2020</td>\n",
       "      <td>District of Columbia</td>\n",
       "      <td>DC</td>\n",
       "      <td>PIERCE, BROCK</td>\n",
       "      <td>INDEPENDENT</td>\n",
       "      <td>693</td>\n",
       "      <td>0.0020</td>\n",
       "    </tr>\n",
       "  </tbody>\n",
       "</table>\n",
       "</div>"
      ],
      "text/plain": [
       "      year               GEONAME state_po                candidate  \\\n",
       "3842  2020  District of Columbia       DC      BIDEN, JOSEPH R. JR   \n",
       "3843  2020  District of Columbia       DC         TRUMP, DONALD J.   \n",
       "3847  2020  District of Columbia       DC                    OTHER   \n",
       "3844  2020  District of Columbia       DC            JORGENSEN, JO   \n",
       "3845  2020  District of Columbia       DC           HAWKINS, HOWIE   \n",
       "3846  2020  District of Columbia       DC  LA RIVA, GLORIA ESTELLA   \n",
       "3848  2020  District of Columbia       DC            PIERCE, BROCK   \n",
       "\n",
       "          party_detailed  candidatevotes  percentage  \n",
       "3842            DEMOCRAT          317323      0.9215  \n",
       "3843          REPUBLICAN           18586      0.0540  \n",
       "3847               OTHER            3137      0.0091  \n",
       "3844         LIBERTARIAN            2036      0.0059  \n",
       "3845  DC STATEHOOD GREEN            1726      0.0050  \n",
       "3846         INDEPENDENT             855      0.0025  \n",
       "3848         INDEPENDENT             693      0.0020  "
      ]
     },
     "execution_count": 904,
     "metadata": {},
     "output_type": "execute_result"
    }
   ],
   "source": [
    "state = rename_title(state)\n",
    "t1 = election_all[(election_all['year']==election_year) & (election_all['GEONAME']==state)]\n",
    "totalvotes = t1['totalvotes'].values[0]\n",
    "t2 = t1[['year', 'GEONAME', 'state_po', 'candidate', 'party_detailed', 'candidatevotes']]\n",
    "\n",
    "pd.options.display.float_format = \"{:,.4f}\".format\n",
    "print('Total votes:', totalvotes)\n",
    "\n",
    "t2['percentage'] = t2['candidatevotes'] / totalvotes\n",
    "t2.sort_values(by='percentage', ascending=False)"
   ]
  },
  {
   "cell_type": "markdown",
   "id": "ff2882fd",
   "metadata": {},
   "source": [
    "### Graph"
   ]
  },
  {
   "cell_type": "code",
   "execution_count": 908,
   "id": "35747716",
   "metadata": {},
   "outputs": [],
   "source": [
    "# Get graph of voter counts for this state\n",
    "state = 'Montana'"
   ]
  },
  {
   "cell_type": "code",
   "execution_count": 909,
   "id": "2fdc3f88",
   "metadata": {},
   "outputs": [],
   "source": [
    "election_all['year'].to_numpy()\n",
    "\n",
    "group = election_all[election_all['GEONAME']==state].groupby('year')\n",
    "\n",
    "years = []\n",
    "totalvotes = []\n",
    "\n",
    "for key, value in group:\n",
    "    years.append(key)\n",
    "    totalvotes.append(value['totalvotes'].iloc[0])\n",
    "#     print(key, '\\n', value['totalvotes'].iloc[0])"
   ]
  },
  {
   "cell_type": "markdown",
   "id": "86ebdfb4",
   "metadata": {},
   "source": [
    "Generate chart"
   ]
  },
  {
   "cell_type": "code",
   "execution_count": 910,
   "id": "170395eb",
   "metadata": {},
   "outputs": [
    {
     "data": {
      "image/png": "[encoded data removed]",
      "text/plain": [
       "<Figure size 432x288 with 1 Axes>"
      ]
     },
     "metadata": {},
     "output_type": "display_data"
    }
   ],
   "source": [
    "plt.style.use(\"fivethirtyeight\")\n",
    "pd.DataFrame(data=totalvotes, index=years).plot(legend=None, kind='bar')\n",
    "plt.title('{} voter counts\\nover the years'.format(state), fontsize=16)\n",
    "plt.xlabel(\"year\")\n",
    "plt.ylabel(\"voters in millions\")\n",
    "plt.tight_layout()"
   ]
  },
  {
   "cell_type": "markdown",
   "id": "c97fa735",
   "metadata": {},
   "source": [
    "### Pie chart"
   ]
  },
  {
   "cell_type": "code",
   "execution_count": 989,
   "id": "895f566b",
   "metadata": {},
   "outputs": [],
   "source": [
    "election_year = 2012\n",
    "state = 'New Jersey'\n",
    "by_simplified_party_name = False # Set to false for results with detailed party names (no 'OTHER')\n",
    "only_top_x = 3 # See only top x number of parties in the pie chart\n",
    "format_party_names = True # Set to true to change party names to title case"
   ]
  },
  {
   "cell_type": "code",
   "execution_count": 994,
   "id": "f5cdb6a4",
   "metadata": {},
   "outputs": [],
   "source": [
    "filter_by_simplified_party_name = 'party_simplified' if by_simplified_party_name else 'party_detailed'\n",
    "\n",
    "election_results = election_all.groupby(['year', 'GEONAME']).get_group((election_year, state)).sort_values('candidatevotes', ascending=False)\n",
    "\n",
    "parties = election_results[filter_by_simplified_party_name].values.tolist()\n",
    "votes = election_results['candidatevotes'].tolist()\n",
    "\n",
    "if by_simplified_party_name:\n",
    "    votes = votes[:len(parties)]\n",
    "    \n",
    "    # account for other votes\n",
    "    votes[-1] = election_results[['party_simplified', 'candidatevotes']].groupby('party_simplified').get_group(('OTHER'))['candidatevotes'].sum()\n",
    "\n",
    "# only show top x number of parties in pie chart\n",
    "parties = parties[:only_top_x]\n",
    "votes = votes[:only_top_x]\n",
    "\n",
    "if format_party_names:\n",
    "    parties = rename_title(parties)"
   ]
  },
  {
   "cell_type": "markdown",
   "id": "65767f87",
   "metadata": {},
   "source": [
    "Generate pie chart"
   ]
  },
  {
   "cell_type": "code",
   "execution_count": 995,
   "id": "e64783e9",
   "metadata": {},
   "outputs": [
    {
     "data": {
      "image/png": "[encoded data removed]",
      "text/plain": [
       "<Figure size 640x480 with 1 Axes>"
      ]
     },
     "metadata": {},
     "output_type": "display_data"
    }
   ],
   "source": [
    "plt.style.use(\"fivethirtyeight\")\n",
    "# Republicans will be red, Democrats will be blue\n",
    "colors = ['#30a2da', '#fc4f30', '#e5ae38', '#6d904f', '#8b8b8b']\n",
    "if parties[0] == 'Republican':\n",
    "    colors[0], colors[1] = colors[1], colors[0]\n",
    "\n",
    "plt.pie(votes, labels=parties, textprops={'fontsize': 14}, autopct='%1.1f%%', colors=colors)\n",
    "plt.title(\"{} presidential election in {}\".format(election_year, state))\n",
    "plt.legend(parties[:only_top_x], loc=(1, 0))\n",
    "plt.tight_layout()"
   ]
  },
  {
   "cell_type": "code",
   "execution_count": null,
   "id": "85b00ac6",
   "metadata": {},
   "outputs": [],
   "source": []
  },
  {
   "cell_type": "code",
   "execution_count": null,
   "id": "44daafaf",
   "metadata": {},
   "outputs": [],
   "source": []
  }
 ],
 "metadata": {
  "kernelspec": {
   "display_name": "Python 3 (ipykernel)",
   "language": "python",
   "name": "python3"
  },
  "language_info": {
   "codemirror_mode": {
    "name": "ipython",
    "version": 3
   },
   "file_extension": ".py",
   "mimetype": "text/x-python",
   "name": "python",
   "nbconvert_exporter": "python",
   "pygments_lexer": "ipython3",
   "version": "3.9.7"
  }
 },
 "nbformat": 4,
 "nbformat_minor": 5
}
